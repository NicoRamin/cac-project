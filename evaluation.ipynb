{
 "cells": [
  {
   "cell_type": "code",
   "execution_count": 1,
   "metadata": {},
   "outputs": [],
   "source": [
    "# Imports\n",
    "import pandas as pd\n",
    "import numpy as np\n",
    "import random\n",
    "from hugchat import hugchat\n",
    "from hugchat.login import Login\n",
    "import re\n",
    "import time\n"
   ]
  },
  {
   "cell_type": "code",
   "execution_count": 16,
   "metadata": {},
   "outputs": [],
   "source": [
    "# Enter huggingfce credentials\n",
    "login = 'Your username'\n",
    "password = 'Your password'\n",
    "# Sign in\n",
    "sign = Login(login, password)\n",
    "cookies = sign.login()\n",
    "\n",
    "cookie_path_dir = \"./cookies_snapshot\"\n",
    "sign.saveCookiesToDir(cookie_path_dir)\n",
    "\n",
    "chatbot = hugchat.ChatBot(cookies=cookies.get_dict()) "
   ]
  },
  {
   "cell_type": "code",
   "execution_count": 19,
   "metadata": {},
   "outputs": [],
   "source": [
    "# Load summaries\n",
    "csv_file_path = \"./data/youtube_shorts_with_chatbot_summary.csv\"  \n",
    "shorts = pd.read_csv(csv_file_path)"
   ]
  },
  {
   "cell_type": "code",
   "execution_count": 20,
   "metadata": {},
   "outputs": [],
   "source": [
    "# Agent class definition\n",
    "class Agent: \n",
    "    def __init__(self, age, gender, education, self_control_capacity, automatic_approach_tendency, media_use_frequency):\n",
    "        self.age = age\n",
    "        self.gender = gender\n",
    "        self.education = education \n",
    "        self.self_control_capacity = self_control_capacity\n",
    "        self.automatic_approach_tendency = automatic_approach_tendency\n",
    "        self.media_use_frequency = media_use_frequency\n",
    "\n",
    "    def toString(self):\n",
    "        return f\"age: {self.age}, gender: {self.gender}, education: {self.education}, scc: {self.self_control_capacity}, aat: {self.automatic_approach_tendency}, muf: {self.media_use_frequency}\""
   ]
  },
  {
   "cell_type": "code",
   "execution_count": 21,
   "metadata": {},
   "outputs": [],
   "source": [
    "# Define attribute ranges\n",
    "high_to_low_range = [\"high\", \"medium\", \"low\"]\n",
    "age_range = list(range(10, 61))\n",
    "gender_range = [\"male\", \"female\"]\n",
    "education_range = high_to_low_range\n",
    "self_control_capacity_range = high_to_low_range\n",
    "automatic_approach_tendency_range = high_to_low_range\n",
    "media_use_frequency_range = high_to_low_range\n",
    "\n",
    "# Create agent with randomized attribute values\n",
    "def generate_random_agent():\n",
    "    age = random.choice(age_range)\n",
    "    gender = random.choice(gender_range)\n",
    "    education =  random.choice(education_range)\n",
    "    self_control_capacity = random.choice(self_control_capacity_range)\n",
    "    automatic_approach_tendency =  random.choice(automatic_approach_tendency_range)\n",
    "    media_use_frequency = random.choice(media_use_frequency_range)\n",
    "\n",
    "    agent = Agent(age=age, gender=gender, education=education, self_control_capacity=self_control_capacity, automatic_approach_tendency=automatic_approach_tendency, media_use_frequency=media_use_frequency)\n",
    "    return agent\n",
    "# Generate random agent\n",
    "def agents_factory(num_personas):\n",
    "    agents = [generate_random_agent() for _ in range(num_personas)]\n",
    "    return agents"
   ]
  },
  {
   "cell_type": "code",
   "execution_count": 22,
   "metadata": {},
   "outputs": [
    {
     "name": "stdout",
     "output_type": "stream",
     "text": [
      "age: 31, gender: female, education: high, scc: medium, aat: medium, muf: high\n",
      "age: 40, gender: female, education: medium, scc: high, aat: low, muf: high\n",
      "age: 50, gender: female, education: low, scc: medium, aat: high, muf: low\n",
      "age: 54, gender: male, education: high, scc: medium, aat: medium, muf: low\n",
      "age: 31, gender: male, education: medium, scc: high, aat: medium, muf: low\n",
      "age: 17, gender: female, education: high, scc: low, aat: medium, muf: high\n",
      "age: 49, gender: male, education: low, scc: low, aat: medium, muf: medium\n",
      "age: 29, gender: female, education: low, scc: high, aat: high, muf: medium\n",
      "age: 60, gender: male, education: medium, scc: high, aat: medium, muf: medium\n",
      "age: 33, gender: female, education: low, scc: high, aat: low, muf: high\n"
     ]
    }
   ],
   "source": [
    "# Generate agents\n",
    "num_agents_to_generate = 10\n",
    "agents = agents_factory(num_agents_to_generate)\n",
    "\n",
    "# Show generated agents\n",
    "for agent in agents:\n",
    "    print(agent.toString())"
   ]
  },
  {
   "cell_type": "code",
   "execution_count": 23,
   "metadata": {},
   "outputs": [],
   "source": [
    "# Extracting the score as the chatbot tends to add unnecessary text\n",
    "def extract_score(text):\n",
    "    numbers = re.findall('[01]', text)\n",
    "    return numbers\n",
    "\n",
    "# Create prompts\n",
    "def process(agent, short):\n",
    "\n",
    "    # Agent description and additional information about terminology\n",
    "    agent_prompt = f'''You are a {agent.age} year old {agent.gender} with a {agent.education} degree of education. \n",
    "    Your automatic approach tendency is {agent.automatic_approach_tendency} and your media use frequency is {agent.media_use_frequency}. \n",
    "    According to the Communication Science, automatic approach tendencies are defined as the subconscious of reflexive tendency to instinctively approaching something without deliberate thought.\n",
    "    This can also be translated to the use of social media.'''\n",
    "\n",
    "    # Short description and clarification of objective \n",
    "    short_prompt = f''' You are using Youtube and are given the option to watch the following YouTube Short: \n",
    "                Title: {short['Video Title']},\n",
    "                Description: {short['LLM Summary']}\n",
    "                Simultaneously, you have an important project tomorrow which needs extensive preparation.   \n",
    "                Based on the information I gave you about your persona and the content of the video, you should decide whether you will watch this Short or presume working on your project. \n",
    "                Return a 1 for watching the Short and a 0 for not watching the Short. Only return this number.'''\n",
    "    \n",
    "    # Fuse both prompts together\n",
    "    final_prompt = agent_prompt + short_prompt\n",
    "    # send prompt to chatbot\n",
    "    response = chatbot.query(final_prompt)\n",
    "    \n",
    "    # Extract relevant information from chatbot response and persona\n",
    "    output = {\n",
    "        \"score\": extract_score(str(response)),\n",
    "        \"age\": agent.age,\n",
    "        \"gender\": agent.gender,\n",
    "        \"education\": agent.education,\n",
    "        \"scc\": agent.self_control_capacity, \n",
    "        \"aat\": agent.automatic_approach_tendency,\n",
    "        \"muf\": agent.media_use_frequency,\n",
    "    }\n",
    "    \n",
    "    return output"
   ]
  },
  {
   "cell_type": "code",
   "execution_count": 24,
   "metadata": {},
   "outputs": [],
   "source": [
    "# Simulate behaviour towards short from all agents \n",
    "agent_outputs = []\n",
    "for agent in agents:\n",
    "    agent_output = process(agent, shorts.iloc[1])\n",
    "    agent_outputs.append(agent_output)\n",
    "    time.sleep(10)\n"
   ]
  },
  {
   "cell_type": "code",
   "execution_count": 25,
   "metadata": {},
   "outputs": [],
   "source": [
    "# Create dataframe for easier computation\n",
    "df = pd.DataFrame(agent_outputs)\n",
    "# Turn string data into numerical for calculation\n",
    "map_dict = {'low': -1, 'medium': 0, 'high': 1, 'male': 0, 'female': 1}\n",
    "df[['education', 'scc', 'aat', 'muf', 'gender']] = df[['education', 'scc', 'aat', 'muf', 'gender']].replace(map_dict)\n",
    "\n",
    "# Calculate mean of attributes for agents choosing to watch short and agents choosing to not watch short\n",
    "df['score'] = df['score'].apply(lambda x: int(x[0]))\n",
    "\n",
    "# Group means together\n",
    "result = df.groupby('score').mean()\n"
   ]
  },
  {
   "cell_type": "code",
   "execution_count": 26,
   "metadata": {},
   "outputs": [
    {
     "data": {
      "text/html": [
       "<div>\n",
       "<style scoped>\n",
       "    .dataframe tbody tr th:only-of-type {\n",
       "        vertical-align: middle;\n",
       "    }\n",
       "\n",
       "    .dataframe tbody tr th {\n",
       "        vertical-align: top;\n",
       "    }\n",
       "\n",
       "    .dataframe thead th {\n",
       "        text-align: right;\n",
       "    }\n",
       "</style>\n",
       "<table border=\"1\" class=\"dataframe\">\n",
       "  <thead>\n",
       "    <tr style=\"text-align: right;\">\n",
       "      <th></th>\n",
       "      <th>age</th>\n",
       "      <th>gender</th>\n",
       "      <th>education</th>\n",
       "      <th>scc</th>\n",
       "      <th>aat</th>\n",
       "      <th>muf</th>\n",
       "    </tr>\n",
       "    <tr>\n",
       "      <th>score</th>\n",
       "      <th></th>\n",
       "      <th></th>\n",
       "      <th></th>\n",
       "      <th></th>\n",
       "      <th></th>\n",
       "      <th></th>\n",
       "    </tr>\n",
       "  </thead>\n",
       "  <tbody>\n",
       "    <tr>\n",
       "      <th>0</th>\n",
       "      <td>45.285714</td>\n",
       "      <td>0.428571</td>\n",
       "      <td>-0.285714</td>\n",
       "      <td>0.428571</td>\n",
       "      <td>-0.142857</td>\n",
       "      <td>-0.142857</td>\n",
       "    </tr>\n",
       "    <tr>\n",
       "      <th>1</th>\n",
       "      <td>25.666667</td>\n",
       "      <td>1.000000</td>\n",
       "      <td>0.333333</td>\n",
       "      <td>0.000000</td>\n",
       "      <td>0.333333</td>\n",
       "      <td>0.666667</td>\n",
       "    </tr>\n",
       "  </tbody>\n",
       "</table>\n",
       "</div>"
      ],
      "text/plain": [
       "             age    gender  education       scc       aat       muf\n",
       "score                                                              \n",
       "0      45.285714  0.428571  -0.285714  0.428571 -0.142857 -0.142857\n",
       "1      25.666667  1.000000   0.333333  0.000000  0.333333  0.666667"
      ]
     },
     "execution_count": 26,
     "metadata": {},
     "output_type": "execute_result"
    }
   ],
   "source": [
    "# Resulting dataframe shows average of agents seperated on their watching behavior\n",
    "result"
   ]
  }
 ],
 "metadata": {
  "kernelspec": {
   "display_name": "Python 3",
   "language": "python",
   "name": "python3"
  },
  "language_info": {
   "codemirror_mode": {
    "name": "ipython",
    "version": 3
   },
   "file_extension": ".py",
   "mimetype": "text/x-python",
   "name": "python",
   "nbconvert_exporter": "python",
   "pygments_lexer": "ipython3",
   "version": "3.11.3"
  }
 },
 "nbformat": 4,
 "nbformat_minor": 2
}
